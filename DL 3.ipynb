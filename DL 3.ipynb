{
 "cells": [
  {
   "cell_type": "code",
   "execution_count": 3,
   "id": "76ab53a1",
   "metadata": {},
   "outputs": [],
   "source": [
    "import pandas as pd\n",
    "import numpy as np\n",
    "import matplotlib.pyplot as plt\n",
    "import seaborn as sns\n",
    "import tensorflow as ts\n",
    "import tensorflow.keras as keras\n",
    "from keras.utils import to_categorical\n",
    "from tensorflow.keras.utils import plot_model\n",
    "from tensorflow.keras.datasets import fashion_mnist\n",
    "from tensorflow.keras import models, layers\n",
    "from tensorflow.keras.preprocessing.image import ImageDataGenerator\n",
    "from keras.layers import (Dense, Dropout, Flatten,Conv2D, MaxPooling2D,\n",
    "BatchNormalization)\n",
    "from sklearn.metrics import confusion_matrix, classification_report\n",
    "(X_train, y_train), (X_test, y_test) = fashion_mnist.load_data()\n",
    "class_names = ['T-shirt/top', 'Trouser', 'Pullover', 'Dress', 'Coat',\n",
    " 'Sandal', 'Shirt', 'Sneaker', 'Bag', 'Ankle boot']\n",
    "X_train = X_train.reshape((X_train.shape[0], 28, 28, 1))\n",
    "X_test = X_test.reshape((X_test.shape[0], 28, 28, 1))\n",
    "X_train = X_train.astype('float32') / 255\n",
    "X_test = X_test.astype('float32') / 255\n",
    "\n",
    "y_train = to_categorical(y_train, num_classes=10)\n",
    "y_test = to_categorical(y_test, num_classes=10)\n",
    "model = keras.Sequential()\n",
    "model.add(Conv2D(32, (3, 3), activation='relu',\n",
    "kernel_initializer='he_uniform', input_shape=(28, 28, 1)))\n",
    "model.add(MaxPooling2D((2, 2)))\n",
    "model.add(Flatten())\n",
    "model.add(Dense(100, activation='relu',\n",
    "kernel_initializer='he_uniform'))\n",
    "model.add(Dense(10, activation='softmax'))\n",
    "model.compile(optimizer='adam', loss='categorical_crossentropy',\n",
    "metrics=['accuracy'])"
   ]
  },
  {
   "cell_type": "code",
   "execution_count": 4,
   "id": "cba1e1c2",
   "metadata": {},
   "outputs": [
    {
     "name": "stdout",
     "output_type": "stream",
     "text": [
      "Collecting pydot\n",
      "  Downloading pydot-2.0.0-py3-none-any.whl (22 kB)\n",
      "Requirement already satisfied: pyparsing>=3 in c:\\users\\madhu\\anaconda3\\lib\\site-packages (from pydot) (3.0.4)\n",
      "Installing collected packages: pydot\n",
      "Successfully installed pydot-2.0.0\n",
      "Epoch 1/15\n",
      "1875/1875 [==============================] - 33s 17ms/step - loss: 0.3836 - accuracy: 0.8636\n",
      "Epoch 2/15\n",
      "1875/1875 [==============================] - 30s 16ms/step - loss: 0.2574 - accuracy: 0.9056\n",
      "Epoch 3/15\n",
      "1875/1875 [==============================] - 31s 17ms/step - loss: 0.2105 - accuracy: 0.9229\n",
      "Epoch 4/15\n",
      "1875/1875 [==============================] - 31s 17ms/step - loss: 0.1798 - accuracy: 0.9344\n",
      "Epoch 5/15\n",
      "1875/1875 [==============================] - 32s 17ms/step - loss: 0.1538 - accuracy: 0.9428\n",
      "Epoch 6/15\n",
      "1875/1875 [==============================] - 33s 17ms/step - loss: 0.1315 - accuracy: 0.9514\n",
      "Epoch 7/15\n",
      "1875/1875 [==============================] - 32s 17ms/step - loss: 0.1098 - accuracy: 0.9595\n",
      "Epoch 8/15\n",
      "1875/1875 [==============================] - 32s 17ms/step - loss: 0.0939 - accuracy: 0.9657\n",
      "Epoch 9/15\n",
      "1875/1875 [==============================] - 33s 17ms/step - loss: 0.0819 - accuracy: 0.9704\n",
      "Epoch 10/15\n",
      "1875/1875 [==============================] - 32s 17ms/step - loss: 0.0683 - accuracy: 0.9753\n",
      "Epoch 11/15\n",
      "1875/1875 [==============================] - 32s 17ms/step - loss: 0.0600 - accuracy: 0.9782\n",
      "Epoch 12/15\n",
      "1875/1875 [==============================] - 32s 17ms/step - loss: 0.0515 - accuracy: 0.9815\n",
      "Epoch 13/15\n",
      "1875/1875 [==============================] - 31s 17ms/step - loss: 0.0437 - accuracy: 0.9843\n",
      "Epoch 14/15\n",
      "1875/1875 [==============================] - 31s 16ms/step - loss: 0.0379 - accuracy: 0.9869\n",
      "Epoch 15/15\n",
      "1875/1875 [==============================] - 31s 17ms/step - loss: 0.0338 - accuracy: 0.9880\n"
     ]
    }
   ],
   "source": [
    "!pip install pydot\n",
    "history = model.fit(X_train, y_train, epochs=15, batch_size=32)\n"
   ]
  },
  {
   "cell_type": "code",
   "execution_count": 8,
   "id": "e9e4f9bc",
   "metadata": {},
   "outputs": [
    {
     "name": "stdout",
     "output_type": "stream",
     "text": [
      "1875/1875 [==============================] - 10s 5ms/step - loss: 0.0319 - accuracy: 0.9891\n",
      "313/313 [==============================] - 2s 5ms/step - loss: 0.4525 - accuracy: 0.9098\n",
      "Train accuracy: 0.98915\n",
      "Train loss: 0\n",
      "Test accuracy: 0.9098\n",
      "Test loss: 0.452\n"
     ]
    },
    {
     "data": {
      "image/png": "[encoded data removed]",
      "text/plain": [
       "<Figure size 432x288 with 1 Axes>"
      ]
     },
     "metadata": {
      "needs_background": "light"
     },
     "output_type": "display_data"
    }
   ],
   "source": [
    "train_loss, train_acc = model.evaluate(X_train, y_train)\n",
    "test_loss, test_acc = model.evaluate(X_test, y_test)\n",
    "print(\"Train accuracy:\", round(train_acc, 5))\n",
    "print(\"Train loss:\", round(train_loss, ))\n",
    "print(\"Test accuracy:\", round(test_acc, 5))\n",
    "print(\"Test loss:\", round(test_loss, 3))\n",
    "\n",
    "plt.plot(history.history[\"accuracy\"])\n",
    "#plt.plot(history.history[\"val_accuracy\"])\n",
    "plt.title(\"Model Accuracy\")\n",
    "plt.xlabel('Epochs')\n",
    "plt.ylabel('Accuracy')\n",
    "plt.legend(['Train', 'Test'])\n",
    "plt.show()"
   ]
  },
  {
   "cell_type": "code",
   "execution_count": 16,
   "id": "f48a7e73",
   "metadata": {},
   "outputs": [
    {
     "name": "stdout",
     "output_type": "stream",
     "text": [
      "Collecting opencv-python\n",
      "  Downloading opencv_python-4.9.0.80-cp37-abi3-win_amd64.whl (38.6 MB)\n",
      "Requirement already satisfied: numpy>=1.19.3 in c:\\users\\madhu\\anaconda3\\lib\\site-packages (from opencv-python) (1.22.4)\n",
      "Installing collected packages: opencv-python\n",
      "Successfully installed opencv-python-4.9.0.80\n",
      "1/1 [==============================] - 0s 170ms/step\n",
      "Predicted Class: Pullover\n"
     ]
    }
   ],
   "source": [
    "!pip install opencv-python\n",
    "import cv2\n",
    "import numpy as np\n",
    "# Load and preprocess custom data\n",
    "custom_image_path = \"C:\\\\Users\\\\madhu\\\\OneDrive\\\\Desktop\\\\handbag.jpg\"\n",
    "custom_image = cv2.imread(custom_image_path, cv2.IMREAD_GRAYSCALE)\n",
    "custom_image = cv2.resize(custom_image, (28, 28))\n",
    "custom_image = custom_image.reshape((1, 28, 28, 1)) / 255.0\n",
    "# Make predictions\n",
    "predictions = model.predict(custom_image)\n",
    "predicted_class = np.argmax(predictions)\n",
    "# Display the predicted class\n",
    "print(\"Predicted Class:\", class_names[predicted_class])\n"
   ]
  }
 ],
 "metadata": {
  "kernelspec": {
   "display_name": "Python 3 (ipykernel)",
   "language": "python",
   "name": "python3"
  },
  "language_info": {
   "codemirror_mode": {
    "name": "ipython",
    "version": 3
   },
   "file_extension": ".py",
   "mimetype": "text/x-python",
   "name": "python",
   "nbconvert_exporter": "python",
   "pygments_lexer": "ipython3",
   "version": "3.9.12"
  }
 },
 "nbformat": 4,
 "nbformat_minor": 5
}

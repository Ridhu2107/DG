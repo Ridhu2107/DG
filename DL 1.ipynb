{
 "cells": [
  {
   "cell_type": "code",
   "execution_count": 6,
   "id": "bcda42aa",
   "metadata": {},
   "outputs": [
    {
     "name": "stdout",
     "output_type": "stream",
     "text": [
      "Defaulting to user installation because normal site-packages is not writeable\n",
      "Requirement already satisfied: tensorflow in c:\\users\\ridhi\\appdata\\roaming\\python\\python39\\site-packages (2.5.0)\n",
      "Requirement already satisfied: astunparse~=1.6.3 in c:\\users\\ridhi\\appdata\\roaming\\python\\python39\\site-packages (from tensorflow) (1.6.3)\n",
      "Requirement already satisfied: grpcio~=1.34.0 in c:\\users\\ridhi\\appdata\\roaming\\python\\python39\\site-packages (from tensorflow) (1.34.1)\n",
      "Requirement already satisfied: gast==0.4.0 in c:\\users\\ridhi\\appdata\\roaming\\python\\python39\\site-packages (from tensorflow) (0.4.0)\n",
      "Requirement already satisfied: flatbuffers~=1.12.0 in c:\\users\\ridhi\\appdata\\roaming\\python\\python39\\site-packages (from tensorflow) (1.12)\n",
      "Requirement already satisfied: opt-einsum~=3.3.0 in c:\\users\\ridhi\\appdata\\roaming\\python\\python39\\site-packages (from tensorflow) (3.3.0)\n",
      "Requirement already satisfied: tensorflow-estimator<2.6.0,>=2.5.0rc0 in c:\\users\\ridhi\\appdata\\roaming\\python\\python39\\site-packages (from tensorflow) (2.5.0)\n",
      "Requirement already satisfied: wrapt~=1.12.1 in c:\\users\\ridhi\\appdata\\roaming\\python\\python39\\site-packages (from tensorflow) (1.12.1)\n",
      "Requirement already satisfied: absl-py~=0.10 in c:\\users\\ridhi\\appdata\\roaming\\python\\python39\\site-packages (from tensorflow) (0.15.0)\n",
      "Requirement already satisfied: protobuf>=3.9.2 in c:\\users\\ridhi\\appdata\\roaming\\python\\python39\\site-packages (from tensorflow) (3.20.3)\n",
      "Requirement already satisfied: six~=1.15.0 in c:\\users\\ridhi\\appdata\\roaming\\python\\python39\\site-packages (from tensorflow) (1.15.0)\n",
      "Requirement already satisfied: google-pasta~=0.2 in c:\\users\\ridhi\\appdata\\roaming\\python\\python39\\site-packages (from tensorflow) (0.2.0)\n",
      "Requirement already satisfied: wheel~=0.35 in c:\\programdata\\anaconda3\\lib\\site-packages (from tensorflow) (0.37.1)\n",
      "Requirement already satisfied: keras-nightly~=2.5.0.dev in c:\\users\\ridhi\\appdata\\roaming\\python\\python39\\site-packages (from tensorflow) (2.5.0.dev2021032900)\n",
      "Requirement already satisfied: h5py~=3.1.0 in c:\\users\\ridhi\\appdata\\roaming\\python\\python39\\site-packages (from tensorflow) (3.1.0)\n",
      "Requirement already satisfied: typing-extensions~=3.7.4 in c:\\users\\ridhi\\appdata\\roaming\\python\\python39\\site-packages (from tensorflow) (3.7.4.3)\n",
      "Requirement already satisfied: keras-preprocessing~=1.1.2 in c:\\users\\ridhi\\appdata\\roaming\\python\\python39\\site-packages (from tensorflow) (1.1.2)\n",
      "Requirement already satisfied: termcolor~=1.1.0 in c:\\users\\ridhi\\appdata\\roaming\\python\\python39\\site-packages (from tensorflow) (1.1.0)\n",
      "Requirement already satisfied: numpy~=1.19.2 in c:\\users\\ridhi\\appdata\\roaming\\python\\python39\\site-packages (from tensorflow) (1.19.5)\n",
      "Requirement already satisfied: tensorboard~=2.5 in c:\\users\\ridhi\\appdata\\roaming\\python\\python39\\site-packages (from tensorflow) (2.11.2)\n",
      "Requirement already satisfied: google-auth<3,>=1.6.3 in c:\\users\\ridhi\\appdata\\roaming\\python\\python39\\site-packages (from tensorboard~=2.5->tensorflow) (2.29.0)\n",
      "Requirement already satisfied: tensorboard-plugin-wit>=1.6.0 in c:\\users\\ridhi\\appdata\\roaming\\python\\python39\\site-packages (from tensorboard~=2.5->tensorflow) (1.8.1)\n",
      "Requirement already satisfied: requests<3,>=2.21.0 in c:\\programdata\\anaconda3\\lib\\site-packages (from tensorboard~=2.5->tensorflow) (2.28.1)\n",
      "Requirement already satisfied: google-auth-oauthlib<0.5,>=0.4.1 in c:\\users\\ridhi\\appdata\\roaming\\python\\python39\\site-packages (from tensorboard~=2.5->tensorflow) (0.4.6)\n",
      "Requirement already satisfied: werkzeug>=1.0.1 in c:\\programdata\\anaconda3\\lib\\site-packages (from tensorboard~=2.5->tensorflow) (2.0.3)\n",
      "Requirement already satisfied: tensorboard-data-server<0.7.0,>=0.6.0 in c:\\users\\ridhi\\appdata\\roaming\\python\\python39\\site-packages (from tensorboard~=2.5->tensorflow) (0.6.1)\n",
      "Requirement already satisfied: setuptools>=41.0.0 in c:\\programdata\\anaconda3\\lib\\site-packages (from tensorboard~=2.5->tensorflow) (63.4.1)\n",
      "Requirement already satisfied: markdown>=2.6.8 in c:\\programdata\\anaconda3\\lib\\site-packages (from tensorboard~=2.5->tensorflow) (3.3.4)\n",
      "Requirement already satisfied: cachetools<6.0,>=2.0.0 in c:\\users\\ridhi\\appdata\\roaming\\python\\python39\\site-packages (from google-auth<3,>=1.6.3->tensorboard~=2.5->tensorflow) (5.3.3)\n",
      "Requirement already satisfied: rsa<5,>=3.1.4 in c:\\users\\ridhi\\appdata\\roaming\\python\\python39\\site-packages (from google-auth<3,>=1.6.3->tensorboard~=2.5->tensorflow) (4.9)\n",
      "Requirement already satisfied: pyasn1-modules>=0.2.1 in c:\\programdata\\anaconda3\\lib\\site-packages (from google-auth<3,>=1.6.3->tensorboard~=2.5->tensorflow) (0.2.8)\n",
      "Requirement already satisfied: requests-oauthlib>=0.7.0 in c:\\users\\ridhi\\appdata\\roaming\\python\\python39\\site-packages (from google-auth-oauthlib<0.5,>=0.4.1->tensorboard~=2.5->tensorflow) (2.0.0)\n",
      "Requirement already satisfied: certifi>=2017.4.17 in c:\\programdata\\anaconda3\\lib\\site-packages (from requests<3,>=2.21.0->tensorboard~=2.5->tensorflow) (2022.9.14)\n",
      "Requirement already satisfied: idna<4,>=2.5 in c:\\programdata\\anaconda3\\lib\\site-packages (from requests<3,>=2.21.0->tensorboard~=2.5->tensorflow) (3.3)\n",
      "Requirement already satisfied: charset-normalizer<3,>=2 in c:\\programdata\\anaconda3\\lib\\site-packages (from requests<3,>=2.21.0->tensorboard~=2.5->tensorflow) (2.0.4)\n",
      "Requirement already satisfied: urllib3<1.27,>=1.21.1 in c:\\programdata\\anaconda3\\lib\\site-packages (from requests<3,>=2.21.0->tensorboard~=2.5->tensorflow) (1.26.11)\n",
      "Requirement already satisfied: pyasn1<0.5.0,>=0.4.6 in c:\\programdata\\anaconda3\\lib\\site-packages (from pyasn1-modules>=0.2.1->google-auth<3,>=1.6.3->tensorboard~=2.5->tensorflow) (0.4.8)\n",
      "Requirement already satisfied: oauthlib>=3.0.0 in c:\\users\\ridhi\\appdata\\roaming\\python\\python39\\site-packages (from requests-oauthlib>=0.7.0->google-auth-oauthlib<0.5,>=0.4.1->tensorboard~=2.5->tensorflow) (3.2.2)\n"
     ]
    }
   ],
   "source": [
    "!pip install tensorflow"
   ]
  },
  {
   "cell_type": "code",
   "execution_count": 7,
   "id": "d9561f93",
   "metadata": {},
   "outputs": [],
   "source": [
    "import numpy as np\n",
    "import pandas as pd\n",
    "import seaborn as sns\n",
    "import matplotlib.pyplot as plt\n",
    "from sklearn.datasets import load_boston\n",
    "from sklearn.model_selection import train_test_split\n",
    "from sklearn.preprocessing import StandardScaler\n",
    "import tensorflow as tf\n",
    "from sklearn.metrics import accuracy_score"
   ]
  },
  {
   "cell_type": "code",
   "execution_count": 9,
   "id": "525555fd",
   "metadata": {},
   "outputs": [
    {
     "name": "stderr",
     "output_type": "stream",
     "text": [
      "C:\\ProgramData\\Anaconda3\\lib\\site-packages\\sklearn\\utils\\deprecation.py:87: FutureWarning: Function load_boston is deprecated; `load_boston` is deprecated in 1.0 and will be removed in 1.2.\n",
      "\n",
      "    The Boston housing prices dataset has an ethical problem. You can refer to\n",
      "    the documentation of this function for further details.\n",
      "\n",
      "    The scikit-learn maintainers therefore strongly discourage the use of this\n",
      "    dataset unless the purpose of the code is to study and educate about\n",
      "    ethical issues in data science and machine learning.\n",
      "\n",
      "    In this special case, you can fetch the dataset from the original\n",
      "    source::\n",
      "\n",
      "        import pandas as pd\n",
      "        import numpy as np\n",
      "\n",
      "\n",
      "        data_url = \"http://lib.stat.cmu.edu/datasets/boston\"\n",
      "        raw_df = pd.read_csv(data_url, sep=\"\\s+\", skiprows=22, header=None)\n",
      "        data = np.hstack([raw_df.values[::2, :], raw_df.values[1::2, :2]])\n",
      "        target = raw_df.values[1::2, 2]\n",
      "\n",
      "    Alternative datasets include the California housing dataset (i.e.\n",
      "    :func:`~sklearn.datasets.fetch_california_housing`) and the Ames housing\n",
      "    dataset. You can load the datasets as follows::\n",
      "\n",
      "        from sklearn.datasets import fetch_california_housing\n",
      "        housing = fetch_california_housing()\n",
      "\n",
      "    for the California housing dataset and::\n",
      "\n",
      "        from sklearn.datasets import fetch_openml\n",
      "        housing = fetch_openml(name=\"house_prices\", as_frame=True)\n",
      "\n",
      "    for the Ames housing dataset.\n",
      "    \n",
      "  warnings.warn(msg, category=FutureWarning)\n"
     ]
    }
   ],
   "source": [
    "boston = load_boston()\n",
    "data = pd.DataFrame(boston.data, columns=boston.feature_names)\n",
    "data['PRICE'] = boston.target\n",
    "# Split the data into training and testing sets\n",
    "X_train, X_test, y_train, y_test = train_test_split(data.iloc[:, :-1], data.\n",
    "iloc[:, -1], test_size=0.2, random_state=42)\n"
   ]
  },
  {
   "cell_type": "code",
   "execution_count": 10,
   "id": "30b6ef11",
   "metadata": {},
   "outputs": [],
   "source": [
    "scaler = StandardScaler()\n",
    "X_train = scaler.fit_transform(X_train)\n",
    "X_test = scaler.transform(X_test)"
   ]
  },
  {
   "cell_type": "code",
   "execution_count": 12,
   "id": "55d4b1f4",
   "metadata": {},
   "outputs": [],
   "source": [
    "model = tf.keras.models.Sequential([\n",
    "tf.keras.layers.Dense(64, activation='relu', input_shape=(X_train.\n",
    "shape[1],)),\n",
    "tf.keras.layers.Dense(32, activation='relu'),\n",
    "tf.keras.layers.Dense(1)\n",
    "])\n",
    "# Compile the model\n",
    "model.compile(optimizer='adam', loss='mse')"
   ]
  },
  {
   "cell_type": "code",
   "execution_count": 14,
   "id": "2e915f44",
   "metadata": {},
   "outputs": [
    {
     "name": "stdout",
     "output_type": "stream",
     "text": [
      "Epoch 1/100\n",
      "11/11 [==============================] - 0s 13ms/step - loss: 592.5735 - val_loss: 519.9722\n",
      "Epoch 2/100\n",
      "11/11 [==============================] - 0s 3ms/step - loss: 557.8592 - val_loss: 485.8168\n",
      "Epoch 3/100\n",
      "11/11 [==============================] - 0s 3ms/step - loss: 516.6907 - val_loss: 443.7037\n",
      "Epoch 4/100\n",
      "11/11 [==============================] - 0s 3ms/step - loss: 464.9969 - val_loss: 390.3049\n",
      "Epoch 5/100\n",
      "11/11 [==============================] - 0s 3ms/step - loss: 398.6294 - val_loss: 323.5467\n",
      "Epoch 6/100\n",
      "11/11 [==============================] - 0s 3ms/step - loss: 320.9223 - val_loss: 249.4340\n",
      "Epoch 7/100\n",
      "11/11 [==============================] - 0s 3ms/step - loss: 240.0029 - val_loss: 175.1777\n",
      "Epoch 8/100\n",
      "11/11 [==============================] - 0s 3ms/step - loss: 165.2815 - val_loss: 116.0026\n",
      "Epoch 9/100\n",
      "11/11 [==============================] - 0s 3ms/step - loss: 112.8310 - val_loss: 77.2352\n",
      "Epoch 10/100\n",
      "11/11 [==============================] - 0s 3ms/step - loss: 82.1879 - val_loss: 56.1080\n",
      "Epoch 11/100\n",
      "11/11 [==============================] - 0s 3ms/step - loss: 64.4649 - val_loss: 44.0699\n",
      "Epoch 12/100\n",
      "11/11 [==============================] - 0s 3ms/step - loss: 50.8914 - val_loss: 37.0124\n",
      "Epoch 13/100\n",
      "11/11 [==============================] - 0s 3ms/step - loss: 41.4433 - val_loss: 32.6478\n",
      "Epoch 14/100\n",
      "11/11 [==============================] - 0s 3ms/step - loss: 35.0232 - val_loss: 30.1303\n",
      "Epoch 15/100\n",
      "11/11 [==============================] - 0s 3ms/step - loss: 30.2928 - val_loss: 28.9975\n",
      "Epoch 16/100\n",
      "11/11 [==============================] - 0s 3ms/step - loss: 27.3576 - val_loss: 28.2110\n",
      "Epoch 17/100\n",
      "11/11 [==============================] - 0s 3ms/step - loss: 25.4026 - val_loss: 27.9514\n",
      "Epoch 18/100\n",
      "11/11 [==============================] - 0s 3ms/step - loss: 23.8744 - val_loss: 27.7600\n",
      "Epoch 19/100\n",
      "11/11 [==============================] - 0s 3ms/step - loss: 22.9087 - val_loss: 27.6638\n",
      "Epoch 20/100\n",
      "11/11 [==============================] - 0s 3ms/step - loss: 21.9447 - val_loss: 26.7484\n",
      "Epoch 21/100\n",
      "11/11 [==============================] - 0s 3ms/step - loss: 21.1220 - val_loss: 25.8366\n",
      "Epoch 22/100\n",
      "11/11 [==============================] - 0s 3ms/step - loss: 20.7195 - val_loss: 25.1912\n",
      "Epoch 23/100\n",
      "11/11 [==============================] - 0s 3ms/step - loss: 19.8097 - val_loss: 25.2615\n",
      "Epoch 24/100\n",
      "11/11 [==============================] - 0s 3ms/step - loss: 19.2816 - val_loss: 24.8896\n",
      "Epoch 25/100\n",
      "11/11 [==============================] - 0s 3ms/step - loss: 18.7941 - val_loss: 24.3690\n",
      "Epoch 26/100\n",
      "11/11 [==============================] - 0s 3ms/step - loss: 18.2716 - val_loss: 23.8626\n",
      "Epoch 27/100\n",
      "11/11 [==============================] - 0s 3ms/step - loss: 17.7410 - val_loss: 23.6372\n",
      "Epoch 28/100\n",
      "11/11 [==============================] - 0s 3ms/step - loss: 17.3135 - val_loss: 23.3595\n",
      "Epoch 29/100\n",
      "11/11 [==============================] - 0s 3ms/step - loss: 16.8498 - val_loss: 22.9257\n",
      "Epoch 30/100\n",
      "11/11 [==============================] - 0s 4ms/step - loss: 16.5088 - val_loss: 22.5116\n",
      "Epoch 31/100\n",
      "11/11 [==============================] - 0s 3ms/step - loss: 16.1502 - val_loss: 22.0484\n",
      "Epoch 32/100\n",
      "11/11 [==============================] - 0s 3ms/step - loss: 15.8176 - val_loss: 22.0126\n",
      "Epoch 33/100\n",
      "11/11 [==============================] - 0s 3ms/step - loss: 15.5254 - val_loss: 21.5498\n",
      "Epoch 34/100\n",
      "11/11 [==============================] - 0s 3ms/step - loss: 15.2463 - val_loss: 21.3062\n",
      "Epoch 35/100\n",
      "11/11 [==============================] - 0s 3ms/step - loss: 14.9203 - val_loss: 20.6885\n",
      "Epoch 36/100\n",
      "11/11 [==============================] - 0s 3ms/step - loss: 14.7669 - val_loss: 20.3765\n",
      "Epoch 37/100\n",
      "11/11 [==============================] - 0s 4ms/step - loss: 14.4964 - val_loss: 20.3750\n",
      "Epoch 38/100\n",
      "11/11 [==============================] - 0s 3ms/step - loss: 14.2867 - val_loss: 19.9115\n",
      "Epoch 39/100\n",
      "11/11 [==============================] - 0s 4ms/step - loss: 13.9885 - val_loss: 19.7029\n",
      "Epoch 40/100\n",
      "11/11 [==============================] - 0s 3ms/step - loss: 13.7775 - val_loss: 19.5812\n",
      "Epoch 41/100\n",
      "11/11 [==============================] - 0s 3ms/step - loss: 13.5903 - val_loss: 19.3754\n",
      "Epoch 42/100\n",
      "11/11 [==============================] - 0s 3ms/step - loss: 13.4163 - val_loss: 19.7699\n",
      "Epoch 43/100\n",
      "11/11 [==============================] - 0s 2ms/step - loss: 13.4142 - val_loss: 19.3429\n",
      "Epoch 44/100\n",
      "11/11 [==============================] - 0s 3ms/step - loss: 13.2222 - val_loss: 18.9203\n",
      "Epoch 45/100\n",
      "11/11 [==============================] - 0s 3ms/step - loss: 12.9443 - val_loss: 18.3418\n",
      "Epoch 46/100\n",
      "11/11 [==============================] - 0s 3ms/step - loss: 12.7746 - val_loss: 18.1097\n",
      "Epoch 47/100\n",
      "11/11 [==============================] - 0s 3ms/step - loss: 12.6885 - val_loss: 17.9840\n",
      "Epoch 48/100\n",
      "11/11 [==============================] - 0s 3ms/step - loss: 12.4946 - val_loss: 17.9946\n",
      "Epoch 49/100\n",
      "11/11 [==============================] - 0s 3ms/step - loss: 12.3303 - val_loss: 17.5893\n",
      "Epoch 50/100\n",
      "11/11 [==============================] - 0s 3ms/step - loss: 12.2210 - val_loss: 17.6792\n",
      "Epoch 51/100\n",
      "11/11 [==============================] - 0s 3ms/step - loss: 12.1056 - val_loss: 17.8760\n",
      "Epoch 52/100\n",
      "11/11 [==============================] - 0s 3ms/step - loss: 11.9878 - val_loss: 17.8135\n",
      "Epoch 53/100\n",
      "11/11 [==============================] - 0s 3ms/step - loss: 11.8768 - val_loss: 17.4352\n",
      "Epoch 54/100\n",
      "11/11 [==============================] - 0s 3ms/step - loss: 11.8142 - val_loss: 17.4894\n",
      "Epoch 55/100\n",
      "11/11 [==============================] - 0s 3ms/step - loss: 11.6365 - val_loss: 17.1962\n",
      "Epoch 56/100\n",
      "11/11 [==============================] - 0s 3ms/step - loss: 11.6107 - val_loss: 17.2083\n",
      "Epoch 57/100\n",
      "11/11 [==============================] - 0s 3ms/step - loss: 11.4549 - val_loss: 17.3798\n",
      "Epoch 58/100\n",
      "11/11 [==============================] - 0s 3ms/step - loss: 11.4805 - val_loss: 17.5515\n",
      "Epoch 59/100\n",
      "11/11 [==============================] - 0s 3ms/step - loss: 11.3944 - val_loss: 16.5709\n",
      "Epoch 60/100\n",
      "11/11 [==============================] - 0s 3ms/step - loss: 11.1586 - val_loss: 16.8581\n",
      "Epoch 61/100\n",
      "11/11 [==============================] - 0s 3ms/step - loss: 11.1543 - val_loss: 16.1231\n",
      "Epoch 62/100\n",
      "11/11 [==============================] - 0s 3ms/step - loss: 11.0897 - val_loss: 16.3004\n",
      "Epoch 63/100\n",
      "11/11 [==============================] - 0s 3ms/step - loss: 10.9228 - val_loss: 16.3536\n",
      "Epoch 64/100\n",
      "11/11 [==============================] - 0s 2ms/step - loss: 10.9053 - val_loss: 16.4167\n",
      "Epoch 65/100\n",
      "11/11 [==============================] - 0s 2ms/step - loss: 10.7877 - val_loss: 16.3027\n",
      "Epoch 66/100\n",
      "11/11 [==============================] - 0s 2ms/step - loss: 10.7557 - val_loss: 15.2804\n",
      "Epoch 67/100\n",
      "11/11 [==============================] - 0s 3ms/step - loss: 10.6243 - val_loss: 15.8497\n",
      "Epoch 68/100\n",
      "11/11 [==============================] - 0s 3ms/step - loss: 10.8340 - val_loss: 16.0956\n",
      "Epoch 69/100\n",
      "11/11 [==============================] - 0s 3ms/step - loss: 10.7419 - val_loss: 15.1167\n",
      "Epoch 70/100\n",
      "11/11 [==============================] - 0s 3ms/step - loss: 10.6615 - val_loss: 15.1432\n",
      "Epoch 71/100\n",
      "11/11 [==============================] - 0s 2ms/step - loss: 10.3337 - val_loss: 15.6827\n",
      "Epoch 72/100\n",
      "11/11 [==============================] - 0s 3ms/step - loss: 10.1705 - val_loss: 16.2968\n",
      "Epoch 73/100\n",
      "11/11 [==============================] - 0s 3ms/step - loss: 10.1737 - val_loss: 16.0929\n",
      "Epoch 74/100\n",
      "11/11 [==============================] - 0s 3ms/step - loss: 10.0119 - val_loss: 15.9400\n",
      "Epoch 75/100\n",
      "11/11 [==============================] - 0s 3ms/step - loss: 9.9738 - val_loss: 15.6649\n",
      "Epoch 76/100\n",
      "11/11 [==============================] - 0s 3ms/step - loss: 9.9313 - val_loss: 15.0220\n",
      "Epoch 77/100\n",
      "11/11 [==============================] - 0s 3ms/step - loss: 10.0254 - val_loss: 14.8190\n",
      "Epoch 78/100\n",
      "11/11 [==============================] - 0s 3ms/step - loss: 9.8418 - val_loss: 14.9867\n",
      "Epoch 79/100\n",
      "11/11 [==============================] - 0s 3ms/step - loss: 9.8465 - val_loss: 14.8333\n",
      "Epoch 80/100\n",
      "11/11 [==============================] - 0s 3ms/step - loss: 9.7287 - val_loss: 15.2630\n",
      "Epoch 81/100\n",
      "11/11 [==============================] - 0s 3ms/step - loss: 9.6581 - val_loss: 15.6743\n",
      "Epoch 82/100\n",
      "11/11 [==============================] - 0s 3ms/step - loss: 9.6733 - val_loss: 16.1571\n",
      "Epoch 83/100\n",
      "11/11 [==============================] - 0s 3ms/step - loss: 9.5068 - val_loss: 15.5386\n",
      "Epoch 84/100\n",
      "11/11 [==============================] - 0s 3ms/step - loss: 9.4488 - val_loss: 15.4986\n",
      "Epoch 85/100\n",
      "11/11 [==============================] - 0s 3ms/step - loss: 9.3221 - val_loss: 15.7968\n",
      "Epoch 86/100\n",
      "11/11 [==============================] - 0s 3ms/step - loss: 9.5291 - val_loss: 16.0073\n",
      "Epoch 87/100\n",
      "11/11 [==============================] - 0s 3ms/step - loss: 9.3798 - val_loss: 14.8854\n",
      "Epoch 88/100\n",
      "11/11 [==============================] - 0s 3ms/step - loss: 9.2022 - val_loss: 14.8648\n",
      "Epoch 89/100\n",
      "11/11 [==============================] - 0s 3ms/step - loss: 9.1277 - val_loss: 14.6443\n",
      "Epoch 90/100\n",
      "11/11 [==============================] - 0s 3ms/step - loss: 9.0366 - val_loss: 14.6258\n",
      "Epoch 91/100\n",
      "11/11 [==============================] - 0s 3ms/step - loss: 8.9588 - val_loss: 14.7570\n",
      "Epoch 92/100\n",
      "11/11 [==============================] - 0s 3ms/step - loss: 8.9166 - val_loss: 14.9397\n",
      "Epoch 93/100\n",
      "11/11 [==============================] - 0s 2ms/step - loss: 8.8667 - val_loss: 15.1347\n",
      "Epoch 94/100\n",
      "11/11 [==============================] - 0s 3ms/step - loss: 8.7879 - val_loss: 14.7468\n",
      "Epoch 95/100\n",
      "11/11 [==============================] - 0s 3ms/step - loss: 8.7526 - val_loss: 14.4633\n",
      "Epoch 96/100\n",
      "11/11 [==============================] - 0s 2ms/step - loss: 8.6764 - val_loss: 14.5231\n",
      "Epoch 97/100\n",
      "11/11 [==============================] - 0s 2ms/step - loss: 8.5996 - val_loss: 14.7382\n",
      "Epoch 98/100\n",
      "11/11 [==============================] - 0s 3ms/step - loss: 8.6179 - val_loss: 14.7207\n",
      "Epoch 99/100\n",
      "11/11 [==============================] - 0s 2ms/step - loss: 8.4877 - val_loss: 14.2067\n",
      "Epoch 100/100\n",
      "11/11 [==============================] - 0s 2ms/step - loss: 8.4630 - val_loss: 14.0750\n"
     ]
    }
   ],
   "source": [
    "history = model.fit(X_train, y_train, epochs=100, batch_size=32,\n",
    "validation_split=0.2)"
   ]
  },
  {
   "cell_type": "code",
   "execution_count": 15,
   "id": "a7aae785",
   "metadata": {},
   "outputs": [
    {
     "name": "stdout",
     "output_type": "stream",
     "text": [
      "4/4 [==============================] - 0s 1ms/step - loss: 12.7247\n"
     ]
    },
    {
     "data": {
      "text/plain": [
       "12.72474193572998"
      ]
     },
     "execution_count": 15,
     "metadata": {},
     "output_type": "execute_result"
    }
   ],
   "source": [
    "model.evaluate(X_test, y_test)"
   ]
  },
  {
   "cell_type": "code",
   "execution_count": 16,
   "id": "7a977602",
   "metadata": {},
   "outputs": [
    {
     "data": {
      "image/png": "[encoded data removed]",
      "text/plain": [
       "<Figure size 640x480 with 1 Axes>"
      ]
     },
     "metadata": {},
     "output_type": "display_data"
    }
   ],
   "source": [
    "loss = history.history['loss']\n",
    "val_loss = history.history['val_loss']\n",
    "epochs = range(1, len(loss) + 1)\n",
    "plt.plot(epochs, loss, 'bo', label='Training loss')\n",
    "plt.plot(epochs, val_loss, 'b', label='Validation loss')\n",
    "plt.title('Training and validation loss')\n",
    "plt.xlabel('Epochs')\n",
    "plt.ylabel('Loss')\n",
    "plt.legend()\n",
    "plt.show()\n"
   ]
  },
  {
   "cell_type": "code",
   "execution_count": 17,
   "id": "f26851b4",
   "metadata": {},
   "outputs": [
    {
     "data": {
      "image/png": "[encoded data removed]",
      "text/plain": [
       "<Figure size 640x480 with 1 Axes>"
      ]
     },
     "metadata": {},
     "output_type": "display_data"
    }
   ],
   "source": [
    "y_pred = model.predict(X_test)\n",
    "plt.scatter(y_test, y_pred)\n",
    "plt.plot([0, 50], [0, 50], '--k')\n",
    "plt.axis('tight')\n",
    "plt.xlabel('True price ($1000s)')\n",
    "plt.ylabel('Predicted price ($1000s)')\n",
    "plt.show()\n"
   ]
  },
  {
   "cell_type": "code",
   "execution_count": 18,
   "id": "daa86477",
   "metadata": {},
   "outputs": [
    {
     "data": {
      "text/plain": [
       "(404, 13)"
      ]
     },
     "execution_count": 18,
     "metadata": {},
     "output_type": "execute_result"
    }
   ],
   "source": [
    "X_train.shape"
   ]
  },
  {
   "cell_type": "code",
   "execution_count": 19,
   "id": "31743e25",
   "metadata": {},
   "outputs": [
    {
     "data": {
      "text/plain": [
       "array([ 1.28770177, -0.50032012,  1.03323679, -0.27808871,  0.48925206,\n",
       "       -1.42806858,  1.02801516, -0.80217296,  1.70689143,  1.57843444,\n",
       "        0.84534281, -0.07433689,  1.75350503])"
      ]
     },
     "execution_count": 19,
     "metadata": {},
     "output_type": "execute_result"
    }
   ],
   "source": [
    "X_train[0]\n"
   ]
  },
  {
   "cell_type": "code",
   "execution_count": 20,
   "id": "2f6ee778",
   "metadata": {},
   "outputs": [
    {
     "name": "stderr",
     "output_type": "stream",
     "text": [
      "C:\\ProgramData\\Anaconda3\\lib\\site-packages\\sklearn\\base.py:450: UserWarning: X does not have valid feature names, but StandardScaler was fitted with feature names\n",
      "  warnings.warn(\n"
     ]
    }
   ],
   "source": [
    "custom_input = np.array([[0.2, 0.0, 10.0, 0.0, 0.5, 6.0, 70.0, 3.0, 4.0, 400.0,\n",
    "17.0, 360.0, 15.0]])\n",
    "scaled_custom_input = scaler.transform(custom_input)"
   ]
  },
  {
   "cell_type": "code",
   "execution_count": 21,
   "id": "b6929bf2",
   "metadata": {},
   "outputs": [
    {
     "name": "stdout",
     "output_type": "stream",
     "text": [
      "Custom Input Prediction: 18.338939666748047\n"
     ]
    }
   ],
   "source": [
    "custom_prediction = model.predict(scaled_custom_input)\n",
    "print(f\"Custom Input Prediction: {custom_prediction[0][0]}\")"
   ]
  },
  {
   "cell_type": "code",
   "execution_count": null,
   "id": "49c26a2c",
   "metadata": {},
   "outputs": [],
   "source": []
  }
 ],
 "metadata": {
  "kernelspec": {
   "display_name": "Python 3 (ipykernel)",
   "language": "python",
   "name": "python3"
  },
  "language_info": {
   "codemirror_mode": {
    "name": "ipython",
    "version": 3
   },
   "file_extension": ".py",
   "mimetype": "text/x-python",
   "name": "python",
   "nbconvert_exporter": "python",
   "pygments_lexer": "ipython3",
   "version": "3.9.13"
  }
 },
 "nbformat": 4,
 "nbformat_minor": 5
}
